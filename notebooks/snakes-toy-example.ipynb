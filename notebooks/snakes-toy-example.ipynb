{
 "cells": [
  {
   "cell_type": "code",
   "execution_count": null,
   "metadata": {},
   "outputs": [],
   "source": [
    "from snakes.nets import *"
   ]
  },
  {
   "cell_type": "code",
   "execution_count": null,
   "metadata": {},
   "outputs": [],
   "source": [
    "n = PetriNet('QA Pipeline')\n",
    "# define places\n",
    "n.add_place(Place('questionPlace', [1, 'en']))\n",
    "n.add_place(Place('nerPlace', []))\n",
    "n.add_place(Place('relPlace', []))\n",
    "n.add_place(Place('qbPlace', []))\n",
    "\n",
    "# define transitions\n",
    "n.add_transition(Transition('NERTransition', Expression(\"question==1 and questionLang=='en'\")))\n",
    "n.add_transition(Transition('RELTransition', Expression(\"question==1 and questionLang=='en'\")))\n",
    "n.add_transition(Transition('QBTransition', Expression(\"(ner==2 and kgNer=='dbpedia') and (rel==3 and kgRel=='dbpedia')\")))\n",
    "\n",
    "# define arcs\n",
    "n.add_input('questionPlace', 'NERTransition', MultiArc([Variable('question'), Variable('questionLang')]))\n",
    "n.add_output('nerPlace', 'NERTransition', MultiArc([Expression(\"question\"), Variable('questionLang'), Value(2), Value('dbpedia')]))\n",
    "\n",
    "n.add_input('nerPlace', 'RELTransition', MultiArc([Variable('question'), Variable('questionLang'), Variable('ner'), Variable('kgNer')]))\n",
    "n.add_output('relPlace', 'RELTransition', MultiArc([Expression('question'), Variable('questionLang'), Variable('ner'), Variable('kgNer'), Value(3), Value('dbpedia')]))\n",
    "\n",
    "n.add_input('relPlace', 'QBTransition', MultiArc([Variable('question'), Variable('questionLang'), Variable('ner'), Variable('kgNer'), Variable('rel'), Variable('kgRel')]))\n",
    "n.add_output('qbPlace', 'QBTransition', Value(4))\n",
    "\n",
    "# define enum for place names and values\n",
    "# transition names are defined by components\n",
    "# mapping of rdf descriptions to Python classes"
   ]
  },
  {
   "cell_type": "code",
   "execution_count": null,
   "metadata": {},
   "outputs": [],
   "source": [
    "# n.transition()[1].fire(n.transition()[1].modes()[0])"
   ]
  },
  {
   "cell_type": "code",
   "execution_count": null,
   "metadata": {},
   "outputs": [],
   "source": [
    "n.get_marking()"
   ]
  },
  {
   "cell_type": "code",
   "execution_count": null,
   "metadata": {},
   "outputs": [],
   "source": [
    "marking_value = 4\n",
    "for transition in n.transition():\n",
    "    transition.fire(transition.modes()[0])\n",
    "\n",
    "    for t in n.get_marking().keys():\n",
    "        if marking_value in n.get_marking()[t].items():\n",
    "            print(True)\n",
    "\n",
    "print(False)"
   ]
  }
 ],
 "metadata": {
  "kernelspec": {
   "display_name": "Python 3",
   "language": "python",
   "name": "python3"
  },
  "language_info": {
   "codemirror_mode": {
    "name": "ipython",
    "version": 3
   },
   "file_extension": ".py",
   "mimetype": "text/x-python",
   "name": "python",
   "nbconvert_exporter": "python",
   "pygments_lexer": "ipython3",
   "version": "3.8.10"
  },
  "orig_nbformat": 4
 },
 "nbformat": 4,
 "nbformat_minor": 2
}
