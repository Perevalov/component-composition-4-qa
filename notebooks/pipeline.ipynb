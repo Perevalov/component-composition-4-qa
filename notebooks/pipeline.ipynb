{
 "cells": [
  {
   "cell_type": "code",
   "execution_count": 1,
   "metadata": {},
   "outputs": [],
   "source": [
    "import os\n",
    "from rdflib import Graph, Namespace, RDF\n",
    "from utils import AnnotationQuestion, AnnotationOfInstance, AnnotationOfRelation, AnnotationOfAnswerSPARQL, parse_component, reachable\n",
    "\n",
    "data_dir = \"../data/\"\n",
    "descriptions_dir = os.path.join(data_dir, \"component-descriptions\")\n",
    "\n",
    "# Define the namespaces used in the RDF/Turtle file\n",
    "QA = Namespace('https://w3id.org/wdaqua/qanary#')\n",
    "QADATA = Namespace('https://w3id.org/wdaqua/qanary/')\n",
    "RDFS = Namespace('http://www.w3.org/2000/01/rdf-schema#')"
   ]
  },
  {
   "attachments": {},
   "cell_type": "markdown",
   "metadata": {},
   "source": [
    "## Parse RDF-descriptions into Python objects"
   ]
  },
  {
   "cell_type": "code",
   "execution_count": 2,
   "metadata": {},
   "outputs": [],
   "source": [
    "description_files = os.listdir(descriptions_dir) # load all rdf description file names in the directory"
   ]
  },
  {
   "cell_type": "code",
   "execution_count": 3,
   "metadata": {},
   "outputs": [],
   "source": [
    "components = []\n",
    "\n",
    "for file in description_files: # iterate over available component descriptions\n",
    "\n",
    "    # Load the RDF/Turtle file into an rdflib graph\n",
    "    g = Graph()\n",
    "    with open(os.path.join(descriptions_dir, file), 'r') as f:\n",
    "        g.parse(f, format='turtle')\n",
    "\n",
    "    # Find the component type\n",
    "    component_type = [t for t in g.triples((QADATA[file.replace('.ttl', '')], RDF.type, None))][0][2].toPython()\n",
    "    # Find the component in the graph\n",
    "    component_uri = QADATA[file.replace('.ttl', '')]\n",
    "    component = parse_component(g, component_uri, component_type)\n",
    "    components.append(component)"
   ]
  },
  {
   "cell_type": "code",
   "execution_count": 5,
   "metadata": {},
   "outputs": [
    {
     "name": "stdout",
     "output_type": "stream",
     "text": [
      "The following components are there: [Sina, TagMe, ReMatch, QAnswer, DBpediaSpotlight, Aylien]\n"
     ]
    }
   ],
   "source": [
    "print(\"The following components are there:\", components)"
   ]
  },
  {
   "attachments": {},
   "cell_type": "markdown",
   "metadata": {},
   "source": [
    "## Create all the possible combinations of the components\n",
    "\n",
    "### 1. Permutation of types\n",
    "\n",
    "How many ways can you place $n$ different objects in $k$ different places ($k$ $\\in$ $1,2,\\ldots,n$)?\n",
    "\n",
    "\\begin{equation}\n",
    "P^k_n = \\frac{n!}{(n-k)!}\n",
    "\\end{equation}\n",
    "\n",
    "Where $n$ is a number of types and $k$ is a number of abstract components in a sequence."
   ]
  },
  {
   "cell_type": "code",
   "execution_count": 6,
   "metadata": {},
   "outputs": [],
   "source": [
    "from itertools import permutations"
   ]
  },
  {
   "cell_type": "code",
   "execution_count": 7,
   "metadata": {},
   "outputs": [],
   "source": [
    "type_component_dict = {}\n",
    "\n",
    "# construct a dictionary mapping component types to actual components that have that type\n",
    "for component in components:\n",
    "    type_component_dict[type(component)] = type_component_dict.get(type(component), []) + [component]"
   ]
  },
  {
   "cell_type": "code",
   "execution_count": 8,
   "metadata": {},
   "outputs": [],
   "source": [
    "len_permutations_dict = {}\n",
    "\n",
    "# construct a dictionary mapping the length of a permutation to all possible permutations of component types\n",
    "for k in range(1, len(type_component_dict.keys()) + 1):\n",
    "    len_permutations_dict[k] = [p for p in permutations(type_component_dict.keys(), k)]"
   ]
  },
  {
   "attachments": {},
   "cell_type": "markdown",
   "metadata": {},
   "source": [
    "### 2. Permutation of components within a permutation of types\n",
    "\n",
    "Let $k$ actions be performed sequentially. If the first action can be performed in $n_1$ ways, the second action in $n_2$ ways, the third action in $n_3$ ways, and so on to the $k$-th. Then the total number of ways in which the $k$ actions can be performed is:\n",
    "\n",
    "\\begin{equation}\n",
    "N = n_1*n_2*...*n_k\n",
    "\\end{equation}\n",
    "\n",
    "Where $n_i$ is a number of actual components of the $i$-th type (e.g., NER, REL, QB)."
   ]
  },
  {
   "cell_type": "code",
   "execution_count": 9,
   "metadata": {},
   "outputs": [],
   "source": [
    "def combine_lists(lists):\n",
    "    \"\"\"\n",
    "    Combines the provided list of lists into a list of tuples, where each tuple contains a component combination.\n",
    "    N = n_1*n_2*...*n_k, where n_i is the length of the i-th list in lists and k is the length of the lists.\n",
    "\n",
    "    Args:\n",
    "        lists (_type_): a list of lists of actual components\n",
    "\n",
    "    Returns:\n",
    "        list: a list of tuples of actual components (combinations)\n",
    "    \"\"\"\n",
    "    if not lists:\n",
    "        return []\n",
    "    elif len(lists) == 1:\n",
    "        return [(x,) for x in lists[0]]\n",
    "    else:\n",
    "        result = []\n",
    "        for item in lists[0]:\n",
    "            for subitem in combine_lists(lists[1:]):\n",
    "                result.append((item,) + subitem)\n",
    "        return result"
   ]
  },
  {
   "cell_type": "code",
   "execution_count": 11,
   "metadata": {},
   "outputs": [],
   "source": [
    "combinations = []\n",
    "for length, abstract_perm in len_permutations_dict.items():\n",
    "    for perm in abstract_perm:\n",
    "        combinations += combine_lists([type_component_dict[component_type] for component_type in perm])"
   ]
  },
  {
   "cell_type": "code",
   "execution_count": 12,
   "metadata": {},
   "outputs": [
    {
     "data": {
      "text/plain": [
       "64"
      ]
     },
     "execution_count": 12,
     "metadata": {},
     "output_type": "execute_result"
    }
   ],
   "source": [
    "len(combinations)"
   ]
  },
  {
   "attachments": {},
   "cell_type": "markdown",
   "metadata": {},
   "source": [
    "## Mapping the combinations to Petri Net semantics with SNAKE"
   ]
  },
  {
   "cell_type": "code",
   "execution_count": 13,
   "metadata": {},
   "outputs": [],
   "source": [
    "from snakes.nets import *"
   ]
  },
  {
   "cell_type": "code",
   "execution_count": 14,
   "metadata": {},
   "outputs": [],
   "source": [
    "nets = []\n",
    "\n",
    "for combination in combinations: # a single combination refers to a single petri net\n",
    "    n = PetriNet(' --> '.join(str(c) for c in combination))\n",
    "    # define places\n",
    "    n.add_place(Place('questionPlace', [1, 'https://w3id.org/wdaqua/qanary/English']))\n",
    "\n",
    "    for component in combination:\n",
    "        place_name = str(component) + 'Place'\n",
    "        transition_name = str(component) + 'Transition'\n",
    "        n.add_place(Place(place_name, []))\n",
    "        n.add_transition(Transition(name=transition_name, guard=Expression(' and '.join([a.get_guard_expression() for a in component.input_annotations]))))\n",
    "        \n",
    "    prev_variables = []\n",
    "    for i in range(len(combination)):\n",
    "        input_variables = list(set([v for ia in combination[i].input_annotations for v in ia.get_input_variables()]))\n",
    "        input_variables = [v for v in prev_variables if v not in input_variables and type(v) != Value] + input_variables # add those prev_variables that are not in input_variables\n",
    "        output_values = list(set([v for oa in combination[i].output_annotations for v in oa.get_output_values()]))\n",
    "        \n",
    "        n.add_input(n.place()[i].name, n.transition()[i].name, MultiArc(input_variables))\n",
    "        n.add_output(n.place()[i + 1].name, n.transition()[i].name, MultiArc(input_variables + output_values))\n",
    "        \n",
    "        output_variables = list(set([v for oa in combination[i].output_annotations for v in oa.get_output_variables()]))\n",
    "        prev_variables = input_variables + output_variables\n",
    "\n",
    "    nets.append(n)\n"
   ]
  },
  {
   "cell_type": "code",
   "execution_count": 15,
   "metadata": {},
   "outputs": [
    {
     "name": "stdout",
     "output_type": "stream",
     "text": [
      "QAnswer Success!\n",
      "QAnswer --> TagMe Success!\n",
      "QAnswer --> DBpediaSpotlight Success!\n",
      "QAnswer --> Aylien Success!\n",
      "QAnswer --> ReMatch Success!\n",
      "TagMe --> QAnswer Success!\n",
      "DBpediaSpotlight --> QAnswer Success!\n",
      "Aylien --> QAnswer Success!\n",
      "ReMatch --> QAnswer Success!\n",
      "QAnswer --> TagMe --> ReMatch Success!\n",
      "QAnswer --> DBpediaSpotlight --> ReMatch Success!\n",
      "QAnswer --> Aylien --> ReMatch Success!\n",
      "QAnswer --> ReMatch --> TagMe Success!\n",
      "QAnswer --> ReMatch --> DBpediaSpotlight Success!\n",
      "QAnswer --> ReMatch --> Aylien Success!\n",
      "TagMe --> QAnswer --> ReMatch Success!\n",
      "DBpediaSpotlight --> QAnswer --> ReMatch Success!\n",
      "Aylien --> QAnswer --> ReMatch Success!\n",
      "TagMe --> ReMatch --> Sina Success!\n",
      "TagMe --> ReMatch --> QAnswer Success!\n",
      "DBpediaSpotlight --> ReMatch --> Sina Success!\n",
      "DBpediaSpotlight --> ReMatch --> QAnswer Success!\n",
      "Aylien --> ReMatch --> Sina Success!\n",
      "Aylien --> ReMatch --> QAnswer Success!\n",
      "ReMatch --> QAnswer --> TagMe Success!\n",
      "ReMatch --> QAnswer --> DBpediaSpotlight Success!\n",
      "ReMatch --> QAnswer --> Aylien Success!\n",
      "ReMatch --> TagMe --> Sina Success!\n",
      "ReMatch --> TagMe --> QAnswer Success!\n",
      "ReMatch --> DBpediaSpotlight --> Sina Success!\n",
      "ReMatch --> DBpediaSpotlight --> QAnswer Success!\n",
      "ReMatch --> Aylien --> Sina Success!\n",
      "ReMatch --> Aylien --> QAnswer Success!\n"
     ]
    }
   ],
   "source": [
    "for n in nets:\n",
    "    # print(\"Evaluating net: \", n)\n",
    "    if reachable(n, AnnotationOfAnswerSPARQL.token_value):\n",
    "        print(n, \"Success!\")"
   ]
  },
  {
   "attachments": {},
   "cell_type": "markdown",
   "metadata": {},
   "source": [
    "### Tests / Debugging"
   ]
  },
  {
   "cell_type": "code",
   "execution_count": 15,
   "metadata": {},
   "outputs": [],
   "source": [
    "combination = combinations[46]\n",
    "\n",
    "n = PetriNet(' --> '.join(str(c) for c in combination))\n",
    "# define places\n",
    "n.add_place(Place('questionPlace', [1, 'https://w3id.org/wdaqua/qanary/English']))\n",
    "\n",
    "for component in combination:\n",
    "    place_name = str(component) + 'Place'\n",
    "    transition_name = str(component) + 'Transition'\n",
    "    n.add_place(Place(place_name, []))\n",
    "    n.add_transition(Transition(name=transition_name, guard=Expression(' and '.join([a.get_guard_expression() for a in component.input_annotations]))))\n",
    "    \n",
    "prev_variables = []\n",
    "for i in range(len(combination)):\n",
    "    input_variables = list(set([v for ia in combination[i].input_annotations for v in ia.get_input_variables()]))\n",
    "    input_variables = [v for v in prev_variables if v not in input_variables and type(v) != Value] + input_variables # add those prev_variables that are not in input_variables\n",
    "    output_values = list(set([v for oa in combination[i].output_annotations for v in oa.get_output_values()]))\n",
    "    \n",
    "    n.add_input(n.place()[i].name, n.transition()[i].name, MultiArc(input_variables))\n",
    "    n.add_output(n.place()[i + 1].name, n.transition()[i].name, MultiArc(input_variables + output_values))\n",
    "    \n",
    "    output_variables = list(set([v for oa in combination[i].output_annotations for v in oa.get_output_variables()]))\n",
    "    prev_variables = input_variables + output_variables\n"
   ]
  },
  {
   "cell_type": "code",
   "execution_count": 16,
   "metadata": {},
   "outputs": [],
   "source": [
    "marking_value = AnnotationOfAnswerSPARQL.token_value\n",
    "\n",
    "for transition in n.transition():\n",
    "    if len(transition.modes()) == 0: # deadlock\n",
    "        break\n",
    "    \n",
    "    transition.fire(transition.modes()[0])\n",
    "\n",
    "    for t in n.get_marking().keys():\n",
    "        if marking_value in n.get_marking()[t].items():\n",
    "            break"
   ]
  }
 ],
 "metadata": {
  "kernelspec": {
   "display_name": "Python 3",
   "language": "python",
   "name": "python3"
  },
  "language_info": {
   "codemirror_mode": {
    "name": "ipython",
    "version": 3
   },
   "file_extension": ".py",
   "mimetype": "text/x-python",
   "name": "python",
   "nbconvert_exporter": "python",
   "pygments_lexer": "ipython3",
   "version": "3.8.10"
  },
  "orig_nbformat": 4
 },
 "nbformat": 4,
 "nbformat_minor": 2
}
